{
 "cells": [
  {
   "cell_type": "code",
   "execution_count": 3,
   "id": "1462f271",
   "metadata": {},
   "outputs": [],
   "source": [
    "#Question 1\n",
    "#Output : 6\n",
    "#Defined \"a\" as a \"0\". In first definition \"a\" setted as an global value to be used in second def function.\n",
    "#Value \"a\" used in a function \"c\" and returns \"a + 2\". We iterated function \"b\" 3 times then printed value \"a\"."
   ]
  },
  {
   "cell_type": "code",
   "execution_count": null,
   "id": "94a7807e",
   "metadata": {},
   "outputs": [],
   "source": [
    "#Question 1\n",
    "a = 0\n",
    "def b():\n",
    "    global a\n",
    "    a = c(a)\n",
    "def c(a):\n",
    "    return a + 2"
   ]
  },
  {
   "cell_type": "code",
   "execution_count": 4,
   "id": "ac9bcd77",
   "metadata": {},
   "outputs": [
    {
     "data": {
      "text/plain": [
       "6"
      ]
     },
     "execution_count": 4,
     "metadata": {},
     "output_type": "execute_result"
    }
   ],
   "source": [
    "b()\n",
    "b()\n",
    "b()\n",
    "a"
   ]
  },
  {
   "cell_type": "code",
   "execution_count": 1,
   "id": "7b55fb00",
   "metadata": {},
   "outputs": [
    {
     "name": "stdout",
     "output_type": "stream",
     "text": [
      "File bdat.txt not found.\n"
     ]
    }
   ],
   "source": [
    "#Question 2\n",
    "def fileLength(filename):\n",
    "    try:\n",
    "        infile = open(filename)\n",
    "        txtfile = infile.readline()\n",
    "        print(txtfile)\n",
    "        \n",
    "    except FileNotFoundError:\n",
    "        print('File {} not found.'.format(filename))\n",
    "fileLength('bdat.txt')\n",
    "\n",
    "\n",
    "\n",
    "#Also second solution is possible because\n",
    "#your file, different from the function you asking professor\n",
    "\n",
    "#def file_lenght(file_name):\n",
    "#   try:\n",
    "#        file = open(file_name)\n",
    "#       contents = file.readline()\n",
    "#       file.close()\n",
    "#       print(len(contents))\n",
    "#   except FileNotFoundError:\n",
    "#       print('File {} not found.'.format(file_name))\n"
   ]
  },
  {
   "cell_type": "code",
   "execution_count": 6,
   "id": "b5acc96a",
   "metadata": {},
   "outputs": [
    {
     "data": {
      "text/plain": [
       "(3, 4)"
      ]
     },
     "execution_count": 6,
     "metadata": {},
     "output_type": "execute_result"
    }
   ],
   "source": [
    "class Point:\n",
    "    'class that represents a point in the plane'\n",
    "\n",
    "    def __init__(self, xcoord, ycoord):\n",
    "        'initialize coordinates to (xcoord, ycoord)'\n",
    "        self.x = xcoord\n",
    "        self.y = ycoord\n",
    "\n",
    "    def setx(self, xcoord):\n",
    "        'set x coordinate of point to xcoord'\n",
    "        self.x = xcoord\n",
    "\n",
    "    def sety(self, ycoord):\n",
    "        'set y coordinate of point to ycoord'\n",
    "        self.y = ycoord\n",
    "\n",
    "    def get(self):\n",
    "        'return coordinates of the point as a tuple'\n",
    "        return (self.x, self.y)\n",
    "\n",
    "        \n",
    "a = Point(3, 4)\n",
    "a.get()"
   ]
  },
  {
   "cell_type": "code",
   "execution_count": 35,
   "id": "72369982",
   "metadata": {},
   "outputs": [
    {
     "name": "stdout",
     "output_type": "stream",
     "text": [
      "I am a Kangaroo located at coordinates (0,0).\n",
      "I am a Kangaroo located at coordinates (4,0).\n"
     ]
    },
    {
     "data": {
      "text/plain": [
       "['doll', 'firetruck', 'kitten']"
      ]
     },
     "execution_count": 35,
     "metadata": {},
     "output_type": "execute_result"
    }
   ],
   "source": [
    "#Question 3\n",
    "#By refering this code example and using it in my code.\n",
    "#Edward. (2016, October 31). Structure of inheritance between Animal classes and methods. Retrieved February 22, 2022, from https://codereview.stackexchange.com/questions/145740/structure-of-inheritance-between-animal-classes-and-methods. \n",
    "\n",
    "class Marsupial():\n",
    "    def __init__(self):\n",
    "        self.typelist = []\n",
    "    def put_in_pouch(self,obj):\n",
    "        self.typelist.append(obj)\n",
    "    def pouch_contents(self):\n",
    "        return self.typelist\n",
    "    \n",
    "    \n",
    "class Kangaroo(Marsupial):\n",
    "    def __init__(self,cx,cy):\n",
    "        Marsupial.__init__(self)\n",
    "        self.cx = cx\n",
    "        self.cy = cy\n",
    "    def jump(self,dx,dy):\n",
    "        self.cx += dx\n",
    "        self.cy += dy\n",
    "        \n",
    "    def __str__(self):\n",
    "        return 'I am a Kangaroo located at coordinates ({},{}).'.format(self.cx,self.cy)\n",
    "    \n",
    "k = Kangaroo(0,0)\n",
    "print(k)\n",
    "k.jump(1,0)\n",
    "k.jump(1,0)\n",
    "k.jump(1,0)\n",
    "k.jump(1,0)\n",
    "print(k)\n",
    "\n",
    "\n",
    "k.put_in_pouch('doll')\n",
    "k.put_in_pouch('firetruck')\n",
    "k.put_in_pouch('kitten')\n",
    "k.pouch_contents()\n",
    "\n"
   ]
  },
  {
   "cell_type": "code",
   "execution_count": 47,
   "id": "d0b7688a",
   "metadata": {},
   "outputs": [
    {
     "name": "stdout",
     "output_type": "stream",
     "text": [
      "01100100"
     ]
    }
   ],
   "source": [
    "#Question 5\n",
    "def binary(value):\n",
    "    if value >= 1:\n",
    "        binary(value // 2)\n",
    "    print(value % 2 , end = '')\n",
    "   \n",
    "binary(100)"
   ]
  },
  {
   "cell_type": "code",
   "execution_count": 60,
   "id": "4831c097",
   "metadata": {},
   "outputs": [
    {
     "name": "stdout",
     "output_type": "stream",
     "text": [
      "2.5"
     ]
    }
   ],
   "source": [
    "#Question 4\n",
    "def collatz(value):\n",
    "    if value > 1:\n",
    "        if(value % 2 == 1):\n",
    "            value = value / 2\n",
    "            print(value, end = '')\n",
    "        else:\n",
    "            value = 3 * value + 1\n",
    "            print(value, end = '')\n",
    "    else:\n",
    "        return 1\n",
    "\n",
    "collatz(5)\n",
    "        "
   ]
  },
  {
   "cell_type": "code",
   "execution_count": 85,
   "id": "ffe33190",
   "metadata": {},
   "outputs": [
    {
     "name": "stdout",
     "output_type": "stream",
     "text": [
      "10\n",
      "5.0\n",
      "16.0\n",
      "8.0\n",
      "4.0\n",
      "2.0\n",
      "1.0\n"
     ]
    }
   ],
   "source": [
    "#Question 5\n",
    "def collatz(n):\n",
    "    if n > 1 and n%2 ==0:\n",
    "        print(n)\n",
    "        return collatz(n/2)\n",
    "        \n",
    "    elif n > 1 and n%2 == 1:\n",
    "        print(n)\n",
    "        return collatz(3*n+1)\n",
    "        \n",
    "    else:\n",
    "        print(n)\n",
    "        \n",
    "collatz(10)"
   ]
  },
  {
   "cell_type": "code",
   "execution_count": null,
   "id": "b073d8fe",
   "metadata": {},
   "outputs": [],
   "source": [
    "#Question 8\n",
    "!pip install ipython-sql\n",
    "#a\n",
    "%%sql\n",
    "SELECT * FROM Temperature\n",
    "#b\n",
    "%%sql\n",
    "SELECT Distinct FROM City\n",
    "#c\n",
    "%%sql\n",
    "SELECT * FROM table\n",
    "WHERE City = 'India'\n",
    "#d\n",
    "%%sql\n",
    "SELECT * FROM table\n",
    "WHERE Season = 'Fall'\n",
    "#e\n",
    "%%sql\n",
    "SELECT City,Country,Season FROM table\n",
    "WHERE Rainfall BETWEEN 200 AND 400\n",
    "#f\n",
    "%%sql\n",
    "SELECT City,Country FROM table\n",
    "WHERE Season = 'Fall' and Temperature > 20\n",
    "ORDER BY Temperature ASC\n",
    "#g\n",
    "%%sql\n",
    "SELECT COUNT(Rainfall) FROM table\n",
    "WHERE City = 'Caira'\n",
    "#h\n",
    "%%sql\n",
    "SELECT Season,SUM(Rainfall) FROM table\n",
    "GROUP BY Season"
   ]
  },
  {
   "cell_type": "code",
   "execution_count": 20,
   "id": "bc27086c",
   "metadata": {},
   "outputs": [
    {
     "name": "stdout",
     "output_type": "stream",
     "text": [
      "['THE', 'QUICK', 'BROWN', 'FOX', 'JUMPS', 'OVER', 'THE', 'LAZY', 'DOG']\n",
      "['the', 'quick', 'brown', 'fox', 'jumps', 'over', 'the', 'lazy', 'dog']\n",
      "[3, 5, 5, 3, 5, 4, 3, 4, 3]\n",
      "['quick', 'brown', 'jumps', 'over', 'lazy']\n",
      "['THE', 'the', 3, 'QUICK', 'quick', 5, 'BROWN', 'brown', 5, 'FOX', 'fox', 3, 'JUMPS', 'jumps', 5, 'OVER', 'over', 4, 'THE', 'the', 3, 'LAZY', 'lazy', 4, 'DOG', 'dog', 3]\n"
     ]
    }
   ],
   "source": [
    "#Question 9\n",
    "words = ['The', 'quick', 'brown', 'fox', 'jumps', 'over',\n",
    "'the', 'lazy', 'dog']\n",
    "upperlist = [x.upper() for x in words]\n",
    "print(upperlist)\n",
    "lowerlist = [x.lower() for x in words]\n",
    "print(lowerlist)\n",
    "lenghtlist = [len(x) for x in words]\n",
    "print(lenghtlist)\n",
    "fourmore = [x for x in words if len(x)>=4]\n",
    "print(fourmore)\n",
    "\n",
    "newlines = []\n",
    "for i in range(len(words)):\n",
    "    newlines.append(upperlist[i])\n",
    "    newlines.append(lowerlist[i])\n",
    "    newlines.append(lenghtlist[i])\n",
    "print(newlines)\n",
    "    "
   ]
  }
 ],
 "metadata": {
  "kernelspec": {
   "display_name": "Python 3 (ipykernel)",
   "language": "python",
   "name": "python3"
  },
  "language_info": {
   "codemirror_mode": {
    "name": "ipython",
    "version": 3
   },
   "file_extension": ".py",
   "mimetype": "text/x-python",
   "name": "python",
   "nbconvert_exporter": "python",
   "pygments_lexer": "ipython3",
   "version": "3.9.7"
  }
 },
 "nbformat": 4,
 "nbformat_minor": 5
}
